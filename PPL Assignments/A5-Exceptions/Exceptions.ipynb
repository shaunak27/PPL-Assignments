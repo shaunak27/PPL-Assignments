{
 "cells": [
  {
   "cell_type": "markdown",
   "metadata": {},
   "source": [
    "# Exception Handling in Python"
   ]
  },
  {
   "cell_type": "markdown",
   "metadata": {},
   "source": [
    "## 1. KeyBoard Interrupt :"
   ]
  },
  {
   "cell_type": "code",
   "execution_count": 1,
   "metadata": {},
   "outputs": [
    {
     "name": "stdout",
     "output_type": "stream",
     "text": [
      "Caught KeyboardInterrupt\n"
     ]
    }
   ],
   "source": [
    "try:\n",
    "    inp = input('Press Ctrl+C or Interrupt the Kernel:')\n",
    "except KeyboardInterrupt:\n",
    "    print ('Caught KeyboardInterrupt')\n",
    "else:\n",
    "    print ('No exception occurred')"
   ]
  },
  {
   "cell_type": "markdown",
   "metadata": {},
   "source": [
    "## 2. ZeroDivision Exception"
   ]
  },
  {
   "cell_type": "code",
   "execution_count": 2,
   "metadata": {},
   "outputs": [
    {
     "name": "stdout",
     "output_type": "stream",
     "text": [
      "Caught ZeroDivision Exception\n"
     ]
    }
   ],
   "source": [
    "try:  \n",
    "    a = 1 / 0\n",
    "    print (a)\n",
    "except ZeroDivisionError:  \n",
    "        print (\"Caught ZeroDivision Exception\" )\n",
    "else:  \n",
    "    print ('No exception occurred')"
   ]
  },
  {
   "cell_type": "markdown",
   "metadata": {},
   "source": [
    "## 3. OverFlow Exception"
   ]
  },
  {
   "cell_type": "code",
   "execution_count": 3,
   "metadata": {},
   "outputs": [
    {
     "name": "stdout",
     "output_type": "stream",
     "text": [
      "Caught OverFlow Exception\n"
     ]
    }
   ],
   "source": [
    "import math\n",
    "try:     \n",
    "    print(math.exp(2000))\n",
    "except OverflowError:  \n",
    "        print (\"Caught OverFlow Exception\")\n",
    "else:  \n",
    "    print ('No exception occurred')"
   ]
  },
  {
   "cell_type": "markdown",
   "metadata": {},
   "source": [
    "## 4. Assertion Error"
   ]
  },
  {
   "cell_type": "code",
   "execution_count": 4,
   "metadata": {},
   "outputs": [
    {
     "name": "stdout",
     "output_type": "stream",
     "text": [
      "Caught Assertion Exception\n"
     ]
    }
   ],
   "source": [
    "try:  \n",
    "    a = 100\n",
    "    b = \"string\"\n",
    "    assert a == b\n",
    "except AssertionError:  \n",
    "        print (\"Caught Assertion Exception\")\n",
    "else:  \n",
    "    print (\"No exception occurred\")"
   ]
  },
  {
   "cell_type": "markdown",
   "metadata": {},
   "source": [
    "## 5. Import Error"
   ]
  },
  {
   "cell_type": "code",
   "execution_count": 5,
   "metadata": {},
   "outputs": [
    {
     "name": "stdout",
     "output_type": "stream",
     "text": [
      "Caught Import Error\n"
     ]
    }
   ],
   "source": [
    "try:\n",
    "    import numpie\n",
    "except ImportError:\n",
    "    print('Caught Import Error')\n",
    "else:\n",
    "    print(\"No exception occurred\")"
   ]
  },
  {
   "cell_type": "markdown",
   "metadata": {},
   "source": [
    "## 6. I/O Error"
   ]
  },
  {
   "cell_type": "code",
   "execution_count": 6,
   "metadata": {},
   "outputs": [
    {
     "name": "stdout",
     "output_type": "stream",
     "text": [
      "Caught I/O Error\n"
     ]
    }
   ],
   "source": [
    "try:\n",
    "    file = open('writefile.txt','w')\n",
    "    text = file.read()\n",
    "except IOError:\n",
    "    print('Caught I/O Error')\n",
    "else:\n",
    "    print(\"No exception occured\")"
   ]
  },
  {
   "cell_type": "markdown",
   "metadata": {},
   "source": [
    "## 7. FileExists Error"
   ]
  },
  {
   "cell_type": "code",
   "execution_count": 8,
   "metadata": {},
   "outputs": [
    {
     "name": "stdout",
     "output_type": "stream",
     "text": [
      "File/Folder already exists\n"
     ]
    }
   ],
   "source": [
    "try:\n",
    "    import os\n",
    "    os.mkdir('SampleFolder')\n",
    "except FileExistsError:\n",
    "    print('File/Folder already exists')"
   ]
  },
  {
   "cell_type": "markdown",
   "metadata": {},
   "source": [
    "## 8. File Error"
   ]
  },
  {
   "cell_type": "code",
   "execution_count": 9,
   "metadata": {},
   "outputs": [
    {
     "name": "stdout",
     "output_type": "stream",
     "text": [
      "File Not Found\n"
     ]
    }
   ],
   "source": [
    "try:\n",
    "    open('testtext.txt','r')\n",
    "except FileNotFoundError:\n",
    "    print('File Not Found')\n",
    "else:\n",
    "    print('No exception occured')"
   ]
  },
  {
   "cell_type": "code",
   "execution_count": null,
   "metadata": {},
   "outputs": [],
   "source": []
  },
  {
   "cell_type": "code",
   "execution_count": null,
   "metadata": {},
   "outputs": [],
   "source": []
  },
  {
   "cell_type": "code",
   "execution_count": null,
   "metadata": {},
   "outputs": [],
   "source": []
  }
 ],
 "metadata": {
  "kernelspec": {
   "display_name": "Python 3",
   "language": "python",
   "name": "python3"
  },
  "language_info": {
   "codemirror_mode": {
    "name": "ipython",
    "version": 3
   },
   "file_extension": ".py",
   "mimetype": "text/x-python",
   "name": "python",
   "nbconvert_exporter": "python",
   "pygments_lexer": "ipython3",
   "version": "3.7.4"
  }
 },
 "nbformat": 4,
 "nbformat_minor": 2
}
