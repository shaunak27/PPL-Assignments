{
 "cells": [
  {
   "cell_type": "code",
   "execution_count": 1,
   "metadata": {},
   "outputs": [],
   "source": [
    "class Animal():\n",
    "    \n",
    "    def __init__(self):\n",
    "        self.name = '' \n",
    "        self.legs = 4\n",
    "        self._color = ''\n",
    "        self.__family  = '' \n",
    "    def getname(self):\n",
    "        print(\"This is a\", self.name)\n",
    "    def getcolor(self):\n",
    "        print(self._color)\n",
    "    def getlegs(self):\n",
    "        return self.legs\n",
    "    def setlegs(self,legs):\n",
    "        self.legs = legs\n",
    "    def setname(self, name):\n",
    "        self.name = name\n",
    "    def setcolor(self, color):\n",
    "        self._color = color\n",
    "    def setfamily(self, family):\n",
    "        self.__family = family\n"
   ]
  },
  {
   "cell_type": "code",
   "execution_count": 2,
   "metadata": {},
   "outputs": [],
   "source": [
    "class Cat(Animal):\n",
    "    def __init__(self):\n",
    "        self.name = 'Cat' \n",
    "        self.legs = 4\n",
    "        self._color = 'White'\n",
    "        self.family = 'Mammal'\n",
    "        self.fur = True\n",
    "    def spill(self):\n",
    "        \n",
    "        print('The '+self.name + ' has ' + str(self.legs) + ' legs and is ' + self._color + ' in color. It belongs to the ' + self.family + \" Family.\")"
   ]
  },
  {
   "cell_type": "code",
   "execution_count": 3,
   "metadata": {},
   "outputs": [
    {
     "name": "stdout",
     "output_type": "stream",
     "text": [
      "The Cat has 4 legs and is White in color. It belongs to the Mammal Family.\n"
     ]
    }
   ],
   "source": [
    "c = Cat()\n",
    "c.spill()"
   ]
  },
  {
   "cell_type": "code",
   "execution_count": 4,
   "metadata": {},
   "outputs": [],
   "source": [
    "class Dog(Animal):\n",
    "    def __init__(self):\n",
    "        self.name = 'Dog' \n",
    "        self.legs = 4\n",
    "        self._color = 'Brown / Black'\n",
    "        self.family = 'Mammal'\n",
    "        self.fur = True\n",
    "    def spill(self):\n",
    "        \n",
    "        print('The '+self.name + ' has ' + str(self.legs) + ' legs and is ' + self._color + ' in color. It belongs to the ' + self.family + \" Family.\")"
   ]
  },
  {
   "cell_type": "code",
   "execution_count": 5,
   "metadata": {},
   "outputs": [
    {
     "name": "stdout",
     "output_type": "stream",
     "text": [
      "The Dog has 4 legs and is Brown / Black in color. It belongs to the Mammal Family.\n"
     ]
    }
   ],
   "source": [
    "d = Dog()\n",
    "d.spill()"
   ]
  },
  {
   "cell_type": "code",
   "execution_count": 6,
   "metadata": {},
   "outputs": [],
   "source": [
    "class Elephant(Animal):\n",
    "    def __init__(self):\n",
    "        self.name = 'Elephant' \n",
    "        self.legs = 4\n",
    "        self._color = 'Gray'\n",
    "        self.family = 'Mammal'\n",
    "        self.fur = False\n",
    "        self.size = \"Large\"\n",
    "    def spill(self):\n",
    "        print('The '+self.name + ' has ' + str(self.legs) + ' legs and is ' + self._color + ' in color. It belongs to the ' + self.family + \" Family.\")"
   ]
  },
  {
   "cell_type": "code",
   "execution_count": 7,
   "metadata": {},
   "outputs": [],
   "source": [
    "class Wolf(Animal):\n",
    "    def __init__(self):\n",
    "        self.name = 'Wolf' \n",
    "        self.legs = 4\n",
    "        self._color = 'Black'\n",
    "        self.family = 'Mammal'\n",
    "        self.fur = True\n",
    "    def spill(self):\n",
    "        \n",
    "        print('The '+self.name + ' has ' + str(self.legs) + ' legs and is ' + self._color + ' in color. It belongs to the ' + self.family + \" Family.\")"
   ]
  },
  {
   "cell_type": "code",
   "execution_count": 8,
   "metadata": {},
   "outputs": [],
   "source": [
    "class Fox(Animal):\n",
    "    def __init__(self):\n",
    "        self.name = 'Fox' \n",
    "        self.legs = 4\n",
    "        self._color = 'Brown'\n",
    "        self.family = 'Mammal'\n",
    "        self.isDomestic = False\n",
    "    def spill(self):\n",
    "        \n",
    "        print('The '+self.name + ' has ' + str(self.legs) + ' legs and is ' + self._color + ' in color. It belongs to the ' + self.family + \" Family.\")"
   ]
  },
  {
   "cell_type": "code",
   "execution_count": 28,
   "metadata": {},
   "outputs": [],
   "source": [
    "class Lion(Animal):\n",
    "    def __init__(self):\n",
    "        self.name = 'Lion' \n",
    "        self.legs = 4\n",
    "        self._color = 'Yellow'\n",
    "        self.family = 'Mammal'\n",
    "        self.fur = True\n",
    "        self.isDomestic = False\n",
    "    def spill(self):\n",
    "        \n",
    "        print('The '+self.name + ' has ' + str(self.legs) + ' legs and is ' + self._color + ' in color. It belongs to the ' + self.family + \" Family.\")"
   ]
  },
  {
   "cell_type": "code",
   "execution_count": 9,
   "metadata": {},
   "outputs": [],
   "source": [
    "class Quagga(Animal):\n",
    "    def __init__(self):\n",
    "        self.name = 'Quagga' \n",
    "        self.legs = 4\n",
    "        self._color = 'Striped Black and White'\n",
    "        self.family = 'Mammal'\n",
    "        self.fur = True\n",
    "        self.isDomestic = True\n",
    "    def spill(self):\n",
    "        \n",
    "        print('The '+self.name + ' has ' + str(self.legs) + ' legs and is ' + self._color + ' in color. It belongs to the ' + self.family + \" Family.\")"
   ]
  },
  {
   "cell_type": "code",
   "execution_count": 10,
   "metadata": {},
   "outputs": [],
   "source": [
    "class Tiger(Animal):\n",
    "    def __init__(self):\n",
    "        self.name = 'Tiger' \n",
    "        self.legs = 4\n",
    "        self._color = 'Orange'\n",
    "        self.family = 'Mammal'\n",
    "        self.fur = True\n",
    "        self.isDomestic = False\n",
    "    def spill(self):\n",
    "        \n",
    "        print('The '+self.name + ' has ' + str(self.legs) + ' legs and is ' + self._color + ' in color. It belongs to the ' + self.family + \" Family.\")"
   ]
  },
  {
   "cell_type": "code",
   "execution_count": 31,
   "metadata": {},
   "outputs": [],
   "source": [
    "class Human(Animal):\n",
    "    def __init__(self):\n",
    "        self.name = 'Human' \n",
    "        self.legs = 2\n",
    "        self._color = 'Yellow'\n",
    "        self.family = 'Mammal'\n",
    "        self.fur = False\n",
    "    def spill(self):\n",
    "        \n",
    "        print('The '+self.name + ' has ' + str(self.legs) + ' legs and is ' + self._color + ' in color. It belongs to the ' + self.family + \" Family.\")"
   ]
  },
  {
   "cell_type": "code",
   "execution_count": 11,
   "metadata": {},
   "outputs": [],
   "source": [
    "class Lizard(Animal):\n",
    "    def __init__(self):\n",
    "        self.name = 'Lizard' \n",
    "        self.legs = 2\n",
    "        self._color = 'Yellow'\n",
    "        self.family = 'Reptile'\n",
    "        self.fur = False\n",
    "        \n",
    "    def spill(self):\n",
    "        \n",
    "        print('The '+self.name + ' has ' + str(self.legs) + ' legs and is ' + self._color + ' in color. It belongs to the ' + self.family + \" Family.\")"
   ]
  },
  {
   "cell_type": "code",
   "execution_count": 12,
   "metadata": {},
   "outputs": [],
   "source": [
    "import math\n",
    "import turtle\n"
   ]
  },
  {
   "cell_type": "code",
   "execution_count": 13,
   "metadata": {},
   "outputs": [],
   "source": [
    "class rectangle():\n",
    "    def __init__(self, side1, side2):\n",
    "        self.a = side1\n",
    "        self.b = side2\n",
    "        cat = 'Polygon'\n",
    "        self.scale = 10\n",
    "    def getarea(self):\n",
    "        self._area = (self.a*self.b)\n",
    "        print(\"Area is \".format(self._area))\n",
    "    def getperimeter(self):\n",
    "        self._perimeter = 2*(self.a+self.b)\n",
    "        print(\"Perimeter is \".format(self._perimeter))\n",
    "    def getcategory(self):\n",
    "        print('It is a '+ self.cat)\n",
    "    def draw(self):\n",
    "        turtle.clear()\n",
    "        turtle.forward(self.a*self.scale)\n",
    "        turtle.left(90)\n",
    "        turtle.forward(self.b*self.scale)\n",
    "        turtle.left(90)\n",
    "        turtle.forward(self.a*self.scale)\n",
    "        turtle.left(90)\n",
    "        turtle.forward(self.b*self.scale)\n",
    "        turtle.done()"
   ]
  },
  {
   "cell_type": "code",
   "execution_count": 14,
   "metadata": {},
   "outputs": [],
   "source": [
    "r = rectangle(5,10)\n",
    "r.draw()"
   ]
  },
  {
   "cell_type": "code",
   "execution_count": 18,
   "metadata": {},
   "outputs": [],
   "source": [
    "class square():\n",
    "    def __init__(self, side):\n",
    "        self.a = side\n",
    "        cat = 'Polygon'\n",
    "        self.scale = 10\n",
    "    def getarea(self):\n",
    "        self._area = (self.a*self.a)\n",
    "        print(\"Area is \".format(self._area))\n",
    "    def getperimeter(self):\n",
    "        self._perimeter = 2*(self.a+self.a)\n",
    "        print(\"Perimeter is \".format(self._perimeter))\n",
    "    def getcategory(self):\n",
    "        print('It is a '+ self.cat)\n",
    "    def draw(self):\n",
    "        turtle.clear()\n",
    "        turtle.forward(self.a*self.scale)\n",
    "        turtle.left(90)\n",
    "        turtle.forward(self.a*self.scale)\n",
    "        turtle.left(90)\n",
    "        turtle.forward(self.a*self.scale)\n",
    "        turtle.left(90)\n",
    "        turtle.forward(self.a*self.scale)\n",
    "        turtle.done()"
   ]
  },
  {
   "cell_type": "code",
   "execution_count": 19,
   "metadata": {},
   "outputs": [],
   "source": [
    "s = square(4)\n",
    "s.draw()"
   ]
  },
  {
   "cell_type": "code",
   "execution_count": 23,
   "metadata": {},
   "outputs": [],
   "source": [
    "class scalenetriangle():\n",
    "    def __init__(self, a,b,c,theta1,theta2):\n",
    "        self.a = a\n",
    "        self.b = b\n",
    "        self.c = c\n",
    "        self.theta1 = theta1\n",
    "        self.theta2 = theta2\n",
    "        self.cat = 'Polygon'\n",
    "        self.scale = 10\n",
    "    def getperimeter(self):\n",
    "        self._perimeter = self.a + self.b + self.c\n",
    "        print(\"Perimeter is\".format(self._perimeter))\n",
    "    def draw(self):\n",
    "        turtle.clear()\n",
    "        turtle.forward(self.a*self.scale)\n",
    "        turtle.left(180 - self.theta1)\n",
    "        turtle.forward(self.b*self.scale)\n",
    "        turtle.left(180 - self.theta2)\n",
    "        turtle.forward(self.c*self.scale)\n",
    "        turtle.done()\n",
    "        "
   ]
  },
  {
   "cell_type": "code",
   "execution_count": 24,
   "metadata": {},
   "outputs": [],
   "source": [
    "t = scalenetriangle(3,4,5,90,30)\n",
    "t.draw()"
   ]
  },
  {
   "cell_type": "code",
   "execution_count": 29,
   "metadata": {},
   "outputs": [],
   "source": [
    "class equilateraltriangle():\n",
    "    def __init__(self, a):\n",
    "        self.a = a\n",
    "        self.b = a\n",
    "        self.c = a\n",
    "        self.theta1 = 60\n",
    "        self.theta2 = 60\n",
    "        self.cat = 'Polygon'\n",
    "        self.scale = 10\n",
    "    def getperimeter(self):\n",
    "        self._perimeter = self.a + self.b + self.c\n",
    "        print(\"Perimeter is\".format(self._perimeter))\n",
    "    def draw(self):\n",
    "        turtle.clear()\n",
    "        turtle.forward(self.a*self.scale)\n",
    "        turtle.left(180 - self.theta1)\n",
    "        turtle.forward(self.b*self.scale)\n",
    "        turtle.left(180 - self.theta2)\n",
    "        turtle.forward(self.c*self.scale)\n",
    "        turtle.done()"
   ]
  },
  {
   "cell_type": "code",
   "execution_count": 30,
   "metadata": {},
   "outputs": [],
   "source": [
    "e = equilateraltriangle(5)\n",
    "e.draw()"
   ]
  },
  {
   "cell_type": "code",
   "execution_count": 36,
   "metadata": {},
   "outputs": [],
   "source": [
    "class circle():\n",
    "    def __init__(self, radius):\n",
    "        self.radius = radius\n",
    "        self.scale = 10\n",
    "    def getperimeter(self):\n",
    "        self._perimeter = (2*3.14*self._radius)\n",
    "        print(\"Perimeter is {}\".format(self._perimeter))\n",
    "    def draw(self):\n",
    "        turtle.clear()\n",
    "        turtle.circle(self.radius*scale)\n",
    "        turtle.done()"
   ]
  },
  {
   "cell_type": "code",
   "execution_count": 38,
   "metadata": {},
   "outputs": [
    {
     "ename": "Terminator",
     "evalue": "",
     "output_type": "error",
     "traceback": [
      "\u001b[0;31m---------------------------------------------------------------------------\u001b[0m",
      "\u001b[0;31mTerminator\u001b[0m                                Traceback (most recent call last)",
      "\u001b[0;32m<ipython-input-38-1c6a23151131>\u001b[0m in \u001b[0;36m<module>\u001b[0;34m\u001b[0m\n\u001b[1;32m      1\u001b[0m \u001b[0mc\u001b[0m \u001b[0;34m=\u001b[0m \u001b[0mcircle\u001b[0m\u001b[0;34m(\u001b[0m\u001b[0;36m10\u001b[0m\u001b[0;34m)\u001b[0m\u001b[0;34m\u001b[0m\u001b[0;34m\u001b[0m\u001b[0m\n\u001b[0;32m----> 2\u001b[0;31m \u001b[0mc\u001b[0m\u001b[0;34m.\u001b[0m\u001b[0mdraw\u001b[0m\u001b[0;34m(\u001b[0m\u001b[0;34m)\u001b[0m\u001b[0;34m\u001b[0m\u001b[0;34m\u001b[0m\u001b[0m\n\u001b[0m",
      "\u001b[0;32m<ipython-input-36-246dccc4da2f>\u001b[0m in \u001b[0;36mdraw\u001b[0;34m(self)\u001b[0m\n\u001b[1;32m      7\u001b[0m         \u001b[0mprint\u001b[0m\u001b[0;34m(\u001b[0m\u001b[0;34m\"Perimeter is {}\"\u001b[0m\u001b[0;34m.\u001b[0m\u001b[0mformat\u001b[0m\u001b[0;34m(\u001b[0m\u001b[0mself\u001b[0m\u001b[0;34m.\u001b[0m\u001b[0m_perimeter\u001b[0m\u001b[0;34m)\u001b[0m\u001b[0;34m)\u001b[0m\u001b[0;34m\u001b[0m\u001b[0;34m\u001b[0m\u001b[0m\n\u001b[1;32m      8\u001b[0m     \u001b[0;32mdef\u001b[0m \u001b[0mdraw\u001b[0m\u001b[0;34m(\u001b[0m\u001b[0mself\u001b[0m\u001b[0;34m)\u001b[0m\u001b[0;34m:\u001b[0m\u001b[0;34m\u001b[0m\u001b[0;34m\u001b[0m\u001b[0m\n\u001b[0;32m----> 9\u001b[0;31m         \u001b[0mturtle\u001b[0m\u001b[0;34m.\u001b[0m\u001b[0mclear\u001b[0m\u001b[0;34m(\u001b[0m\u001b[0;34m)\u001b[0m\u001b[0;34m\u001b[0m\u001b[0;34m\u001b[0m\u001b[0m\n\u001b[0m\u001b[1;32m     10\u001b[0m         \u001b[0mturtle\u001b[0m\u001b[0;34m.\u001b[0m\u001b[0mcircle\u001b[0m\u001b[0;34m(\u001b[0m\u001b[0mself\u001b[0m\u001b[0;34m.\u001b[0m\u001b[0mradius\u001b[0m\u001b[0;34m*\u001b[0m\u001b[0mscale\u001b[0m\u001b[0;34m)\u001b[0m\u001b[0;34m\u001b[0m\u001b[0;34m\u001b[0m\u001b[0m\n\u001b[1;32m     11\u001b[0m         \u001b[0mturtle\u001b[0m\u001b[0;34m.\u001b[0m\u001b[0mdone\u001b[0m\u001b[0;34m(\u001b[0m\u001b[0;34m)\u001b[0m\u001b[0;34m\u001b[0m\u001b[0;34m\u001b[0m\u001b[0m\n",
      "\u001b[0;32m~/anaconda3/lib/python3.7/turtle.py\u001b[0m in \u001b[0;36mclear\u001b[0;34m()\u001b[0m\n",
      "\u001b[0;32m~/anaconda3/lib/python3.7/turtle.py\u001b[0m in \u001b[0;36mclear\u001b[0;34m(self)\u001b[0m\n\u001b[1;32m   2641\u001b[0m         \"\"\"\n\u001b[1;32m   2642\u001b[0m         \u001b[0mself\u001b[0m\u001b[0;34m.\u001b[0m\u001b[0m_clear\u001b[0m\u001b[0;34m(\u001b[0m\u001b[0;34m)\u001b[0m\u001b[0;34m\u001b[0m\u001b[0;34m\u001b[0m\u001b[0m\n\u001b[0;32m-> 2643\u001b[0;31m         \u001b[0mself\u001b[0m\u001b[0;34m.\u001b[0m\u001b[0m_update\u001b[0m\u001b[0;34m(\u001b[0m\u001b[0;34m)\u001b[0m\u001b[0;34m\u001b[0m\u001b[0;34m\u001b[0m\u001b[0m\n\u001b[0m\u001b[1;32m   2644\u001b[0m \u001b[0;34m\u001b[0m\u001b[0m\n\u001b[1;32m   2645\u001b[0m     \u001b[0;32mdef\u001b[0m \u001b[0m_update_data\u001b[0m\u001b[0;34m(\u001b[0m\u001b[0mself\u001b[0m\u001b[0;34m)\u001b[0m\u001b[0;34m:\u001b[0m\u001b[0;34m\u001b[0m\u001b[0;34m\u001b[0m\u001b[0m\n",
      "\u001b[0;32m~/anaconda3/lib/python3.7/turtle.py\u001b[0m in \u001b[0;36m_update\u001b[0;34m(self)\u001b[0m\n\u001b[1;32m   2658\u001b[0m             \u001b[0;32mreturn\u001b[0m\u001b[0;34m\u001b[0m\u001b[0;34m\u001b[0m\u001b[0m\n\u001b[1;32m   2659\u001b[0m         \u001b[0;32melif\u001b[0m \u001b[0mscreen\u001b[0m\u001b[0;34m.\u001b[0m\u001b[0m_tracing\u001b[0m \u001b[0;34m==\u001b[0m \u001b[0;36m1\u001b[0m\u001b[0;34m:\u001b[0m\u001b[0;34m\u001b[0m\u001b[0;34m\u001b[0m\u001b[0m\n\u001b[0;32m-> 2660\u001b[0;31m             \u001b[0mself\u001b[0m\u001b[0;34m.\u001b[0m\u001b[0m_update_data\u001b[0m\u001b[0;34m(\u001b[0m\u001b[0;34m)\u001b[0m\u001b[0;34m\u001b[0m\u001b[0;34m\u001b[0m\u001b[0m\n\u001b[0m\u001b[1;32m   2661\u001b[0m             \u001b[0mself\u001b[0m\u001b[0;34m.\u001b[0m\u001b[0m_drawturtle\u001b[0m\u001b[0;34m(\u001b[0m\u001b[0;34m)\u001b[0m\u001b[0;34m\u001b[0m\u001b[0;34m\u001b[0m\u001b[0m\n\u001b[1;32m   2662\u001b[0m             \u001b[0mscreen\u001b[0m\u001b[0;34m.\u001b[0m\u001b[0m_update\u001b[0m\u001b[0;34m(\u001b[0m\u001b[0;34m)\u001b[0m                  \u001b[0;31m# TurtleScreenBase\u001b[0m\u001b[0;34m\u001b[0m\u001b[0;34m\u001b[0m\u001b[0m\n",
      "\u001b[0;32m~/anaconda3/lib/python3.7/turtle.py\u001b[0m in \u001b[0;36m_update_data\u001b[0;34m(self)\u001b[0m\n\u001b[1;32m   2644\u001b[0m \u001b[0;34m\u001b[0m\u001b[0m\n\u001b[1;32m   2645\u001b[0m     \u001b[0;32mdef\u001b[0m \u001b[0m_update_data\u001b[0m\u001b[0;34m(\u001b[0m\u001b[0mself\u001b[0m\u001b[0;34m)\u001b[0m\u001b[0;34m:\u001b[0m\u001b[0;34m\u001b[0m\u001b[0;34m\u001b[0m\u001b[0m\n\u001b[0;32m-> 2646\u001b[0;31m         \u001b[0mself\u001b[0m\u001b[0;34m.\u001b[0m\u001b[0mscreen\u001b[0m\u001b[0;34m.\u001b[0m\u001b[0m_incrementudc\u001b[0m\u001b[0;34m(\u001b[0m\u001b[0;34m)\u001b[0m\u001b[0;34m\u001b[0m\u001b[0;34m\u001b[0m\u001b[0m\n\u001b[0m\u001b[1;32m   2647\u001b[0m         \u001b[0;32mif\u001b[0m \u001b[0mself\u001b[0m\u001b[0;34m.\u001b[0m\u001b[0mscreen\u001b[0m\u001b[0;34m.\u001b[0m\u001b[0m_updatecounter\u001b[0m \u001b[0;34m!=\u001b[0m \u001b[0;36m0\u001b[0m\u001b[0;34m:\u001b[0m\u001b[0;34m\u001b[0m\u001b[0;34m\u001b[0m\u001b[0m\n\u001b[1;32m   2648\u001b[0m             \u001b[0;32mreturn\u001b[0m\u001b[0;34m\u001b[0m\u001b[0;34m\u001b[0m\u001b[0m\n",
      "\u001b[0;32m~/anaconda3/lib/python3.7/turtle.py\u001b[0m in \u001b[0;36m_incrementudc\u001b[0;34m(self)\u001b[0m\n\u001b[1;32m   1290\u001b[0m         \u001b[0;32mif\u001b[0m \u001b[0;32mnot\u001b[0m \u001b[0mTurtleScreen\u001b[0m\u001b[0;34m.\u001b[0m\u001b[0m_RUNNING\u001b[0m\u001b[0;34m:\u001b[0m\u001b[0;34m\u001b[0m\u001b[0;34m\u001b[0m\u001b[0m\n\u001b[1;32m   1291\u001b[0m             \u001b[0mTurtleScreen\u001b[0m\u001b[0;34m.\u001b[0m\u001b[0m_RUNNING\u001b[0m \u001b[0;34m=\u001b[0m \u001b[0;32mTrue\u001b[0m\u001b[0;34m\u001b[0m\u001b[0;34m\u001b[0m\u001b[0m\n\u001b[0;32m-> 1292\u001b[0;31m             \u001b[0;32mraise\u001b[0m \u001b[0mTerminator\u001b[0m\u001b[0;34m\u001b[0m\u001b[0;34m\u001b[0m\u001b[0m\n\u001b[0m\u001b[1;32m   1293\u001b[0m         \u001b[0;32mif\u001b[0m \u001b[0mself\u001b[0m\u001b[0;34m.\u001b[0m\u001b[0m_tracing\u001b[0m \u001b[0;34m>\u001b[0m \u001b[0;36m0\u001b[0m\u001b[0;34m:\u001b[0m\u001b[0;34m\u001b[0m\u001b[0;34m\u001b[0m\u001b[0m\n\u001b[1;32m   1294\u001b[0m             \u001b[0mself\u001b[0m\u001b[0;34m.\u001b[0m\u001b[0m_updatecounter\u001b[0m \u001b[0;34m+=\u001b[0m \u001b[0;36m1\u001b[0m\u001b[0;34m\u001b[0m\u001b[0;34m\u001b[0m\u001b[0m\n",
      "\u001b[0;31mTerminator\u001b[0m: "
     ]
    }
   ],
   "source": [
    "c = circle(10)\n",
    "c.draw()"
   ]
  },
  {
   "cell_type": "code",
   "execution_count": 39,
   "metadata": {},
   "outputs": [],
   "source": [
    "class rhombus():\n",
    "    def __init__(self,a):\n",
    "        self.a = a\n",
    "        self.scale = 10\n",
    "    def set_cat(self):\n",
    "        self._cat = 'Polygon '   \n",
    "        print(self.sides)\n",
    "    def draw(self):\n",
    "        \n",
    "        turtle.forward(self.a * self.scale)\n",
    "        turtle.left(60)\n",
    "        turtle.forward(self.a * self.scale)\n",
    "        turtle.left(120)\n",
    "        turtle.forward(self.a * self.scale)\n",
    "        turtle.left(60)\n",
    "        turtle.forward(self.a * self.scale)\n",
    "        turtle.done()"
   ]
  },
  {
   "cell_type": "code",
   "execution_count": 40,
   "metadata": {},
   "outputs": [],
   "source": [
    "r = rhombus(4)\n",
    "r.draw()"
   ]
  },
  {
   "cell_type": "code",
   "execution_count": 44,
   "metadata": {},
   "outputs": [],
   "source": [
    "class pentagon():\n",
    "    def __init__(self, a):\n",
    "        self._a = a\n",
    "        self.scale = 10\n",
    "    def getperimeter(self):\n",
    "        self._perimeter = (5*self._a)\n",
    "        print(\"Perimeter is \".format(self._perimeter))\n",
    "    def draw(self):\n",
    "        turtle.clear()\n",
    "        for i in range(5): \n",
    "            turtle.forward(self._a*self.scale) \n",
    "            turtle.right(72)\n",
    "        turtle.done()"
   ]
  },
  {
   "cell_type": "code",
   "execution_count": 45,
   "metadata": {},
   "outputs": [],
   "source": [
    "p = pentagon(10)\n",
    "p.draw()"
   ]
  },
  {
   "cell_type": "code",
   "execution_count": 86,
   "metadata": {},
   "outputs": [],
   "source": [
    "class hexagon():\n",
    "    def __init__(self, a):\n",
    "        self._a = a\n",
    "        self.scale = 10\n",
    "    def getperimeter(self):\n",
    "        self._perimeter = (6*self._a)\n",
    "        print(\"Perimeter is \".format(self._perimeter))\n",
    "    def draw(self):\n",
    "        turtle.clear()\n",
    "        for i in range(6): \n",
    "            turtle.forward(self._a*self.scale) \n",
    "            turtle.right(60)\n",
    "        turtle.done()"
   ]
  },
  {
   "cell_type": "code",
   "execution_count": 87,
   "metadata": {},
   "outputs": [],
   "source": [
    "h = hexagon(10)\n",
    "h.draw()"
   ]
  },
  {
   "cell_type": "code",
   "execution_count": null,
   "metadata": {},
   "outputs": [],
   "source": []
  }
 ],
 "metadata": {
  "kernelspec": {
   "display_name": "Python 3",
   "language": "python",
   "name": "python3"
  },
  "language_info": {
   "codemirror_mode": {
    "name": "ipython",
    "version": 3
   },
   "file_extension": ".py",
   "mimetype": "text/x-python",
   "name": "python",
   "nbconvert_exporter": "python",
   "pygments_lexer": "ipython3",
   "version": "3.7.4"
  }
 },
 "nbformat": 4,
 "nbformat_minor": 2
}
